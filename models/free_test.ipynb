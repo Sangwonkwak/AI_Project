{
 "cells": [
  {
   "cell_type": "code",
   "execution_count": 1,
   "metadata": {},
   "outputs": [
    {
     "name": "stderr",
     "output_type": "stream",
     "text": [
      "c:\\ANACONDA\\envs\\dnerf\\lib\\site-packages\\tqdm\\auto.py:22: TqdmWarning: IProgress not found. Please update jupyter and ipywidgets. See https://ipywidgets.readthedocs.io/en/stable/user_install.html\n",
      "  from .autonotebook import tqdm as notebook_tqdm\n"
     ]
    },
    {
     "data": {
      "text/plain": [
       "<torch._C.Generator at 0x164177a6270>"
      ]
     },
     "execution_count": 1,
     "metadata": {},
     "output_type": "execute_result"
    }
   ],
   "source": [
    "%load_ext autoreload\n",
    "%autoreload 2\n",
    "import torch\n",
    "from torch import optim, nn, utils\n",
    "import numpy as np\n",
    "import layers\n",
    "import lenet5_cifar10 as models\n",
    "from torchvision import datasets, transforms\n",
    "import sys\n",
    "import os\n",
    "from pathlib import Path\n",
    "import matplotlib.pyplot as plt\n",
    "\n",
    "root = os.getcwd()\n",
    "ckpt_dir = Path(root) / 'checkpoints'\n",
    "seed = 2022\n",
    "torch.manual_seed(2022)"
   ]
  },
  {
   "cell_type": "code",
   "execution_count": 2,
   "metadata": {},
   "outputs": [
    {
     "name": "stdout",
     "output_type": "stream",
     "text": [
      "Files already downloaded and verified\n",
      "Files already downloaded and verified\n",
      "Train :  40000\n",
      "Validation :  10000\n",
      "Test :  10000\n"
     ]
    }
   ],
   "source": [
    "transform = transforms.ToTensor()\n",
    "root = \"./CIFAR10_DATASET\"\n",
    "train_dataset = datasets.CIFAR10(root, transform=transform, train=True, download=True)\n",
    "train_dataset, valid_dataset = utils.data.random_split(train_dataset, [40000, 10000])\n",
    "test_dataset = datasets.CIFAR10(root, transform=transform, train=False, download=True)\n",
    "\n",
    "print(\"Train : \", len(train_dataset))\n",
    "print(\"Validation : \", len(valid_dataset))\n",
    "print(\"Test : \", len(test_dataset))\n",
    "\n",
    "train_batchsize = 64\n",
    "test_batchsize = 256\n",
    "\n",
    "train_dataloader = utils.data.DataLoader(train_dataset, batch_size=train_batchsize, shuffle=True)\n",
    "valid_dataloader = utils.data.DataLoader(valid_dataset, batch_size=test_batchsize, shuffle=False)\n",
    "test_dataloader = utils.data.DataLoader(test_dataset, batch_size=test_batchsize, shuffle=False)"
   ]
  },
  {
   "cell_type": "code",
   "execution_count": 6,
   "metadata": {},
   "outputs": [
    {
     "name": "stdout",
     "output_type": "stream",
     "text": [
      "(800, 800, 4)\n"
     ]
    },
    {
     "data": {
      "image/png": "[encoded data removed]",
      "text/plain": [
       "<Figure size 432x288 with 1 Axes>"
      ]
     },
     "metadata": {
      "needs_background": "light"
     },
     "output_type": "display_data"
    }
   ],
   "source": [
    "import matplotlib.cm as cm\n",
    "import matplotlib.image as img\n",
    "my_image = None\n",
    "# for data in test_dataloader:\n",
    "#     images, labels = data\n",
    "#     my_image = images[0]\n",
    "#     if True:\n",
    "#         break\n",
    "\n",
    "\n",
    "# print(my_image.size())\n",
    "\n",
    "# plt.figure(2, figsize=(20,6))\n",
    "\n",
    "my_image = img.imread('r_000.png')\n",
    "print(my_image.shape)\n",
    "fig, ax = plt.subplots()\n",
    "ax.axis('off')\n",
    "ax.imshow(my_image)\n",
    "plt.show()"
   ]
  }
 ],
 "metadata": {
  "interpreter": {
   "hash": "4850e7481782aff8b094b404badabdfa2504cefa79f1f0b880c4e28e1583440a"
  },
  "kernelspec": {
   "display_name": "Python 3.6.13 ('dnerf')",
   "language": "python",
   "name": "python3"
  },
  "language_info": {
   "codemirror_mode": {
    "name": "ipython",
    "version": 3
   },
   "file_extension": ".py",
   "mimetype": "text/x-python",
   "name": "python",
   "nbconvert_exporter": "python",
   "pygments_lexer": "ipython3",
   "version": "3.6.13"
  },
  "orig_nbformat": 4
 },
 "nbformat": 4,
 "nbformat_minor": 2
}
