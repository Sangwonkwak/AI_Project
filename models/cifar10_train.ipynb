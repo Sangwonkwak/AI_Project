{
 "cells": [
  {
   "cell_type": "code",
   "execution_count": 3,
   "metadata": {},
   "outputs": [
    {
     "name": "stdout",
     "output_type": "stream",
     "text": [
      "The autoreload extension is already loaded. To reload it, use:\n",
      "  %reload_ext autoreload\n"
     ]
    },
    {
     "data": {
      "text/plain": [
       "<torch._C.Generator at 0x21a88dab270>"
      ]
     },
     "execution_count": 3,
     "metadata": {},
     "output_type": "execute_result"
    }
   ],
   "source": [
    "%load_ext autoreload\n",
    "%autoreload 2\n",
    "import torch\n",
    "from torch import optim, nn, utils\n",
    "import numpy as np\n",
    "import layers\n",
    "import lenet5_cifar10 as models\n",
    "from torchvision import datasets, transforms\n",
    "import sys\n",
    "import os\n",
    "from pathlib import Path\n",
    "import matplotlib.pyplot as plt\n",
    "\n",
    "root = os.getcwd()\n",
    "ckpt_dir = Path(root) / 'checkpoints'\n",
    "seed = 2022\n",
    "device = 'cuda' if torch.cuda.is_available() else 'cpu'\n",
    "torch.manual_seed(2022)"
   ]
  },
  {
   "cell_type": "code",
   "execution_count": 2,
   "metadata": {},
   "outputs": [
    {
     "name": "stdout",
     "output_type": "stream",
     "text": [
      "Files already downloaded and verified\n",
      "Files already downloaded and verified\n",
      "Train :  40000\n",
      "Validation :  10000\n",
      "Test :  10000\n"
     ]
    }
   ],
   "source": [
    "transform = transforms.ToTensor()\n",
    "root = \"./CIFAR10_DATASET\"\n",
    "train_dataset = datasets.CIFAR10(root, transform=transform, train=True, download=True)\n",
    "train_dataset, valid_dataset = utils.data.random_split(train_dataset, [40000, 10000])\n",
    "test_dataset = datasets.CIFAR10(root, transform=transform, train=False, download=True)\n",
    "\n",
    "print(\"Train : \", len(train_dataset))\n",
    "print(\"Validation : \", len(valid_dataset))\n",
    "print(\"Test : \", len(test_dataset))\n",
    "\n",
    "train_batchsize = 64\n",
    "test_batchsize = 256\n",
    "\n",
    "train_dataloader = utils.data.DataLoader(train_dataset, batch_size=train_batchsize, shuffle=True)\n",
    "valid_dataloader = utils.data.DataLoader(valid_dataset, batch_size=test_batchsize, shuffle=False)\n",
    "test_dataloader = utils.data.DataLoader(test_dataset, batch_size=test_batchsize, shuffle=False)"
   ]
  },
  {
   "cell_type": "code",
   "execution_count": 10,
   "metadata": {},
   "outputs": [],
   "source": [
    "def mnist_experiment(bnn_model, train_dataloader, valid_dataloader, use_aleatoric=True, **kwargs):\n",
    "  if bnn_model == \"gaussian\":\n",
    "    model = models.gaussian_lenet5(kwargs[\"var_type\"], dict(), kwargs[\"is_lrt\"], use_aleatoric)\n",
    "    optimizer = optim.SGD(model.parameters(), kwargs[\"lr\"], kwargs[\"momentum\"])\n",
    "    # Every forward gives different output.\n",
    "    bnn_type = \"random\"\n",
    "  elif bnn_model == \"dropout\":\n",
    "    model = models.dropout_lenet5(kwargs[\"dropout_rate\"], kwargs[\"dropout_type\"], dict(), use_aleatoric)\n",
    "    optimizer = optim.SGD(model.parameters(), kwargs[\"lr\"], kwargs[\"momentum\"], weight_decay=(1 - kwargs[\"dropout_rate\"]) / 2 * kwargs[\"num_sample\"])\n",
    "    # Every forward gives different output.\n",
    "    bnn_type = \"random\"\n",
    "  elif bnn_model == \"ensemble\":\n",
    "    model = models.ensemble_lenet5(kwargs[\"num_ensemble\"], use_aleatoric)\n",
    "    optimizer = optim.SGD(model.parameters(), kwargs[\"lr\"], kwargs[\"momentum\"])\n",
    "    # Forward gives [batch_size * num_ensemble, output_shape]\n",
    "    bnn_type = \"ensemble\"\n",
    "  elif bnn_model == \"swag\":\n",
    "    model = models.lenet5(use_aleatoric)\n",
    "    optimizer = optim.SGD(model.parameters(), kwargs[\"lr\"], kwargs[\"momentum\"])\n",
    "    # SWAG is trained as simple NN.\n",
    "    bnn_type = \"swag\"\n",
    "  elif bnn_model == \"batchensemble\":\n",
    "    model = models.batchensemble_lenet5(kwargs[\"num_models\"], use_aleatoric)\n",
    "    optimizer = optim.SGD(model.parameters(), kwargs[\"lr\"], kwargs[\"momentum\"])\n",
    "    # Forward gives [batch_size * num_models, output_shape]\n",
    "    bnn_type = \"ensemble\"\n",
    "    kwargs[\"num_ensemble\"] = kwargs[\"num_models\"]\n",
    "  else:\n",
    "    raise ValueError(\"No bnn model choosen.\")\n",
    "\n",
    "  criterion = nn.CrossEntropyLoss()\n",
    "  train_loss_res = []\n",
    "  valid_loss_res = []\n",
    "  train_acc_res = []\n",
    "  valid_acc_res = []\n",
    "\n",
    "  model = model.to(device)\n",
    "\n",
    "  # Load the checkpoint\n",
    "  if False:\n",
    "    file_name = 'd_model_'+kwargs['dropout_type']+'.pth'\n",
    "    ckpt_path = ckpt_dir / file_name\n",
    "    try:\n",
    "      checkpoint = torch.load(ckpt_path)\n",
    "      model.load_state_dict(checkpoint)\n",
    "      train_loss_res = checkpoint['tr_los']\n",
    "      train_acc_res = checkpoint['tr_ac']\n",
    "      valid_loss_res = checkpoint['te_los']\n",
    "      valid_acc_res = checkpoint['te_ac']\n",
    "      print('>>Load the checkpoint DONE!!')\n",
    "      return model, train_loss_res, train_acc_res, valid_loss_res, valid_acc_res\n",
    "    except Exception as e:\n",
    "      print(e)\n",
    "\n",
    "  for epoch in range(kwargs[\"epoch\"]):\n",
    "    train_loss = 0.0\n",
    "    train_acc_count = 0\n",
    "    model.train()\n",
    "    for data in train_dataloader:\n",
    "      images, labels = data\n",
    "      images = images.to(device)\n",
    "      labels = labels.to(device)\n",
    "      if bnn_type == \"random\":\n",
    "        for ind_sample in range(kwargs[\"num_sample\"]):\n",
    "          outputs = model(images)\n",
    "          if use_aleatoric:\n",
    "            output_mean, output_std = torch.chunk(outputs, 2, dim=1)\n",
    "            eps = torch.normal(0, 1, output_mean.shape, device=device)\n",
    "            outputs = output_mean + eps * output_std\n",
    "          loss = criterion(outputs, labels)\n",
    "          loss.backward()\n",
    "          optimizer.step()\n",
    "\n",
    "          train_loss += loss.item() / kwargs[\"num_sample\"]\n",
    "          output_pred = torch.argmax(outputs.detach(), dim=1)\n",
    "          train_acc_count += torch.count_nonzero(output_pred == labels).item() / kwargs[\"num_sample\"]\n",
    "          \n",
    "      elif bnn_type == \"ensemble\":\n",
    "        outputs = model(images)\n",
    "        if use_aleatoric:\n",
    "          output_mean, output_std = torch.chunk(outputs, 2, dim=1)\n",
    "          eps = torch.normal(0, 1, output_mean.shape)\n",
    "          outputs = output_mean + eps * output_std\n",
    "        labels = labels.repeat(kwargs[\"num_ensemble\"]) # [y1, y2, ..., y1, y2, ..., ] with num_ensemble times\n",
    "        loss = criterion(outputs, labels) * kwargs[\"num_ensemble\"]\n",
    "        loss.backward()\n",
    "        optimizer.step()\n",
    "\n",
    "        train_loss += loss.item() / kwargs[\"num_ensemble\"]\n",
    "        output_pred = torch.argmax(outputs.detach(), dim=1)\n",
    "        train_acc_count += torch.count_nonzero(output_pred == labels).item() / kwargs[\"num_ensemble\"]\n",
    "      else:\n",
    "        outputs = model(images)\n",
    "        if use_aleatoric:\n",
    "          output_mean, output_std = torch.chunk(outputs, 2, dim=1)\n",
    "          eps = torch.normal(0, 1, output_mean.shape)\n",
    "          outputs = output_mean + eps * output_std\n",
    "        loss = criterion(outputs, labels)\n",
    "        loss.backward()\n",
    "        optimizer.step()\n",
    "\n",
    "        train_loss += loss.item()\n",
    "        output_pred = torch.argmax(outputs.detach(), dim=1)\n",
    "        train_acc_count += torch.count_nonzero(output_pred == labels).item()\n",
    "    train_loss_res.append(train_loss)\n",
    "    train_acc_res.append(train_acc_count / len(train_dataset))\n",
    "\n",
    "    model.eval()\n",
    "    valid_loss = 0.0\n",
    "    valid_acc_count = 0\n",
    "    with torch.no_grad():\n",
    "      for data in valid_dataloader:\n",
    "        images, labels = data\n",
    "        images = images.to(device)\n",
    "        labels = labels.to(device)\n",
    "        if bnn_type == \"random\":\n",
    "          for ind_sample in range(kwargs[\"valid_num_sample\"]):\n",
    "            outputs = model(images)\n",
    "            if use_aleatoric:\n",
    "              output_mean, output_std = torch.chunk(outputs, 2, dim=1)\n",
    "              eps = torch.normal(0, 1, output_mean.shape, device=device)\n",
    "              outputs = output_mean + eps * output_std\n",
    "            loss = criterion(outputs, labels)\n",
    "            \n",
    "            valid_loss += loss.item() / kwargs[\"valid_num_sample\"]\n",
    "            output_pred = torch.argmax(outputs.detach(), dim=1)\n",
    "            valid_acc_count += torch.count_nonzero(output_pred == labels).item() / kwargs[\"valid_num_sample\"]\n",
    "        elif bnn_type == \"ensemble\":\n",
    "          outputs = model(images)\n",
    "          if use_aleatoric:\n",
    "            output_mean, output_std = torch.chunk(outputs, 2, dim=1)\n",
    "            eps = torch.normal(0, 1, output_mean.shape)\n",
    "            outputs = output_mean + eps * output_std\n",
    "          labels = labels.repeat(kwargs[\"num_ensemble\"]) # [y1, y2, ..., y1, y2, ..., ] with num_ensemble times\n",
    "          loss = criterion(outputs, labels) * kwargs[\"num_ensemble\"]\n",
    "          valid_loss += loss.item() / kwargs[\"num_ensemble\"]\n",
    "          output_pred = torch.argmax(outputs.detach(), dim=1)\n",
    "          valid_acc_count += torch.count_nonzero(output_pred == labels).item() / kwargs[\"num_ensemble\"]\n",
    "        else:\n",
    "          outputs = model(images)\n",
    "          if use_aleatoric:\n",
    "            output_mean, output_std = torch.chunk(outputs, 2, dim=1)\n",
    "            eps = torch.normal(0, 1, output_mean.shape)\n",
    "            outputs = output_mean + eps * output_std\n",
    "          loss = criterion(outputs, labels)\n",
    "          valid_loss += loss.item()\n",
    "          output_pred = torch.argmax(outputs.detach(), dim=1)\n",
    "          valid_acc_count += torch.count_nonzero(output_pred == labels).item()\n",
    "    valid_loss_res.append(valid_loss)\n",
    "    valid_acc_res.append(valid_acc_count / len(valid_dataset))\n",
    "  \n",
    "  return model, train_loss_res, train_acc_res, valid_loss_res, valid_acc_res"
   ]
  },
  {
   "cell_type": "code",
   "execution_count": 11,
   "metadata": {},
   "outputs": [
    {
     "ename": "KeyboardInterrupt",
     "evalue": "",
     "output_type": "error",
     "traceback": [
      "\u001b[1;31m---------------------------------------------------------------------------\u001b[0m",
      "\u001b[1;31mKeyboardInterrupt\u001b[0m                         Traceback (most recent call last)",
      "\u001b[1;32m<ipython-input-11-34db2905231e>\u001b[0m in \u001b[0;36m<module>\u001b[1;34m\u001b[0m\n\u001b[0;32m      1\u001b[0m \u001b[0mres\u001b[0m \u001b[1;33m=\u001b[0m \u001b[0mdict\u001b[0m\u001b[1;33m(\u001b[0m\u001b[1;33m)\u001b[0m\u001b[1;33m\u001b[0m\u001b[1;33m\u001b[0m\u001b[0m\n\u001b[1;32m----> 2\u001b[1;33m \u001b[0md_model_w\u001b[0m\u001b[1;33m,\u001b[0m \u001b[0mtr_los\u001b[0m\u001b[1;33m,\u001b[0m \u001b[0mtr_ac\u001b[0m\u001b[1;33m,\u001b[0m \u001b[0mte_los\u001b[0m\u001b[1;33m,\u001b[0m \u001b[0mte_ac\u001b[0m \u001b[1;33m=\u001b[0m \u001b[0mmnist_experiment\u001b[0m\u001b[1;33m(\u001b[0m\u001b[1;34m\"dropout\"\u001b[0m\u001b[1;33m,\u001b[0m \u001b[0mtrain_dataloader\u001b[0m\u001b[1;33m,\u001b[0m \u001b[0mvalid_dataloader\u001b[0m\u001b[1;33m,\u001b[0m \u001b[0mdropout_rate\u001b[0m\u001b[1;33m=\u001b[0m\u001b[1;36m0.2\u001b[0m\u001b[1;33m,\u001b[0m \u001b[0mdropout_type\u001b[0m\u001b[1;33m=\u001b[0m\u001b[1;34m'w'\u001b[0m\u001b[1;33m,\u001b[0m \u001b[0mnum_sample\u001b[0m\u001b[1;33m=\u001b[0m\u001b[1;36m5\u001b[0m\u001b[1;33m,\u001b[0m \u001b[0mvalid_num_sample\u001b[0m\u001b[1;33m=\u001b[0m\u001b[1;36m20\u001b[0m\u001b[1;33m,\u001b[0m \u001b[0mepoch\u001b[0m\u001b[1;33m=\u001b[0m\u001b[1;36m5\u001b[0m\u001b[1;33m,\u001b[0m \u001b[0mlr\u001b[0m\u001b[1;33m=\u001b[0m\u001b[1;36m0.00001\u001b[0m\u001b[1;33m,\u001b[0m \u001b[0mmomentum\u001b[0m\u001b[1;33m=\u001b[0m\u001b[1;36m0.1\u001b[0m\u001b[1;33m)\u001b[0m\u001b[1;33m\u001b[0m\u001b[1;33m\u001b[0m\u001b[0m\n\u001b[0m\u001b[0;32m      3\u001b[0m \u001b[0mres\u001b[0m\u001b[1;33m[\u001b[0m\u001b[1;34m\"d_w\"\u001b[0m\u001b[1;33m]\u001b[0m \u001b[1;33m=\u001b[0m \u001b[1;33m(\u001b[0m\u001b[0mtr_los\u001b[0m\u001b[1;33m,\u001b[0m \u001b[0mtr_ac\u001b[0m\u001b[1;33m,\u001b[0m \u001b[0mte_los\u001b[0m\u001b[1;33m,\u001b[0m \u001b[0mte_ac\u001b[0m\u001b[1;33m)\u001b[0m\u001b[1;33m\u001b[0m\u001b[1;33m\u001b[0m\u001b[0m\n\u001b[0;32m      4\u001b[0m \u001b[0md_model_f\u001b[0m\u001b[1;33m,\u001b[0m \u001b[0mtr_los\u001b[0m\u001b[1;33m,\u001b[0m \u001b[0mtr_ac\u001b[0m\u001b[1;33m,\u001b[0m \u001b[0mte_los\u001b[0m\u001b[1;33m,\u001b[0m \u001b[0mte_ac\u001b[0m \u001b[1;33m=\u001b[0m \u001b[0mmnist_experiment\u001b[0m\u001b[1;33m(\u001b[0m\u001b[1;34m\"dropout\"\u001b[0m\u001b[1;33m,\u001b[0m \u001b[0mtrain_dataloader\u001b[0m\u001b[1;33m,\u001b[0m \u001b[0mvalid_dataloader\u001b[0m\u001b[1;33m,\u001b[0m \u001b[0mdropout_rate\u001b[0m\u001b[1;33m=\u001b[0m\u001b[1;36m0.2\u001b[0m\u001b[1;33m,\u001b[0m \u001b[0mdropout_type\u001b[0m\u001b[1;33m=\u001b[0m\u001b[1;34m'f'\u001b[0m\u001b[1;33m,\u001b[0m \u001b[0mnum_sample\u001b[0m\u001b[1;33m=\u001b[0m\u001b[1;36m5\u001b[0m\u001b[1;33m,\u001b[0m \u001b[0mvalid_num_sample\u001b[0m\u001b[1;33m=\u001b[0m\u001b[1;36m20\u001b[0m\u001b[1;33m,\u001b[0m \u001b[0mepoch\u001b[0m\u001b[1;33m=\u001b[0m\u001b[1;36m5\u001b[0m\u001b[1;33m,\u001b[0m \u001b[0mlr\u001b[0m\u001b[1;33m=\u001b[0m\u001b[1;36m0.00001\u001b[0m\u001b[1;33m,\u001b[0m \u001b[0mmomentum\u001b[0m\u001b[1;33m=\u001b[0m\u001b[1;36m0.1\u001b[0m\u001b[1;33m)\u001b[0m\u001b[1;33m\u001b[0m\u001b[1;33m\u001b[0m\u001b[0m\n\u001b[0;32m      5\u001b[0m \u001b[0mres\u001b[0m\u001b[1;33m[\u001b[0m\u001b[1;34m\"d_f\"\u001b[0m\u001b[1;33m]\u001b[0m \u001b[1;33m=\u001b[0m \u001b[1;33m(\u001b[0m\u001b[0mtr_los\u001b[0m\u001b[1;33m,\u001b[0m \u001b[0mtr_ac\u001b[0m\u001b[1;33m,\u001b[0m \u001b[0mte_los\u001b[0m\u001b[1;33m,\u001b[0m \u001b[0mte_ac\u001b[0m\u001b[1;33m)\u001b[0m\u001b[1;33m\u001b[0m\u001b[1;33m\u001b[0m\u001b[0m\n",
      "\u001b[1;32m<ipython-input-10-569e6e666c52>\u001b[0m in \u001b[0;36mmnist_experiment\u001b[1;34m(bnn_model, train_dataloader, valid_dataloader, use_aleatoric, **kwargs)\u001b[0m\n\u001b[0;32m     69\u001b[0m             \u001b[0moutputs\u001b[0m \u001b[1;33m=\u001b[0m \u001b[0moutput_mean\u001b[0m \u001b[1;33m+\u001b[0m \u001b[0meps\u001b[0m \u001b[1;33m*\u001b[0m \u001b[0moutput_std\u001b[0m\u001b[1;33m\u001b[0m\u001b[1;33m\u001b[0m\u001b[0m\n\u001b[0;32m     70\u001b[0m           \u001b[0mloss\u001b[0m \u001b[1;33m=\u001b[0m \u001b[0mcriterion\u001b[0m\u001b[1;33m(\u001b[0m\u001b[0moutputs\u001b[0m\u001b[1;33m,\u001b[0m \u001b[0mlabels\u001b[0m\u001b[1;33m)\u001b[0m\u001b[1;33m\u001b[0m\u001b[1;33m\u001b[0m\u001b[0m\n\u001b[1;32m---> 71\u001b[1;33m           \u001b[0mloss\u001b[0m\u001b[1;33m.\u001b[0m\u001b[0mbackward\u001b[0m\u001b[1;33m(\u001b[0m\u001b[1;33m)\u001b[0m\u001b[1;33m\u001b[0m\u001b[1;33m\u001b[0m\u001b[0m\n\u001b[0m\u001b[0;32m     72\u001b[0m           \u001b[0moptimizer\u001b[0m\u001b[1;33m.\u001b[0m\u001b[0mstep\u001b[0m\u001b[1;33m(\u001b[0m\u001b[1;33m)\u001b[0m\u001b[1;33m\u001b[0m\u001b[1;33m\u001b[0m\u001b[0m\n\u001b[0;32m     73\u001b[0m \u001b[1;33m\u001b[0m\u001b[0m\n",
      "\u001b[1;32mc:\\ANACONDA\\envs\\dnerf\\lib\\site-packages\\torch\\_tensor.py\u001b[0m in \u001b[0;36mbackward\u001b[1;34m(self, gradient, retain_graph, create_graph, inputs)\u001b[0m\n\u001b[0;32m    305\u001b[0m                 \u001b[0mcreate_graph\u001b[0m\u001b[1;33m=\u001b[0m\u001b[0mcreate_graph\u001b[0m\u001b[1;33m,\u001b[0m\u001b[1;33m\u001b[0m\u001b[1;33m\u001b[0m\u001b[0m\n\u001b[0;32m    306\u001b[0m                 inputs=inputs)\n\u001b[1;32m--> 307\u001b[1;33m         \u001b[0mtorch\u001b[0m\u001b[1;33m.\u001b[0m\u001b[0mautograd\u001b[0m\u001b[1;33m.\u001b[0m\u001b[0mbackward\u001b[0m\u001b[1;33m(\u001b[0m\u001b[0mself\u001b[0m\u001b[1;33m,\u001b[0m \u001b[0mgradient\u001b[0m\u001b[1;33m,\u001b[0m \u001b[0mretain_graph\u001b[0m\u001b[1;33m,\u001b[0m \u001b[0mcreate_graph\u001b[0m\u001b[1;33m,\u001b[0m \u001b[0minputs\u001b[0m\u001b[1;33m=\u001b[0m\u001b[0minputs\u001b[0m\u001b[1;33m)\u001b[0m\u001b[1;33m\u001b[0m\u001b[1;33m\u001b[0m\u001b[0m\n\u001b[0m\u001b[0;32m    308\u001b[0m \u001b[1;33m\u001b[0m\u001b[0m\n\u001b[0;32m    309\u001b[0m     \u001b[1;32mdef\u001b[0m \u001b[0mregister_hook\u001b[0m\u001b[1;33m(\u001b[0m\u001b[0mself\u001b[0m\u001b[1;33m,\u001b[0m \u001b[0mhook\u001b[0m\u001b[1;33m)\u001b[0m\u001b[1;33m:\u001b[0m\u001b[1;33m\u001b[0m\u001b[1;33m\u001b[0m\u001b[0m\n",
      "\u001b[1;32mc:\\ANACONDA\\envs\\dnerf\\lib\\site-packages\\torch\\autograd\\__init__.py\u001b[0m in \u001b[0;36mbackward\u001b[1;34m(tensors, grad_tensors, retain_graph, create_graph, grad_variables, inputs)\u001b[0m\n\u001b[0;32m    154\u001b[0m     Variable._execution_engine.run_backward(\n\u001b[0;32m    155\u001b[0m         \u001b[0mtensors\u001b[0m\u001b[1;33m,\u001b[0m \u001b[0mgrad_tensors_\u001b[0m\u001b[1;33m,\u001b[0m \u001b[0mretain_graph\u001b[0m\u001b[1;33m,\u001b[0m \u001b[0mcreate_graph\u001b[0m\u001b[1;33m,\u001b[0m \u001b[0minputs\u001b[0m\u001b[1;33m,\u001b[0m\u001b[1;33m\u001b[0m\u001b[1;33m\u001b[0m\u001b[0m\n\u001b[1;32m--> 156\u001b[1;33m         allow_unreachable=True, accumulate_grad=True)  # allow_unreachable flag\n\u001b[0m\u001b[0;32m    157\u001b[0m \u001b[1;33m\u001b[0m\u001b[0m\n\u001b[0;32m    158\u001b[0m \u001b[1;33m\u001b[0m\u001b[0m\n",
      "\u001b[1;31mKeyboardInterrupt\u001b[0m: "
     ]
    }
   ],
   "source": [
    "res = dict()\n",
    "d_model_w, tr_los, tr_ac, te_los, te_ac = mnist_experiment(\"dropout\", train_dataloader, valid_dataloader, dropout_rate=0.2, dropout_type='w', num_sample=5, valid_num_sample=20, epoch=5, lr=0.00001, momentum=0.1)\n",
    "res[\"d_w\"] = (tr_los, tr_ac, te_los, te_ac)\n",
    "d_model_f, tr_los, tr_ac, te_los, te_ac = mnist_experiment(\"dropout\", train_dataloader, valid_dataloader, dropout_rate=0.2, dropout_type='f', num_sample=5, valid_num_sample=20, epoch=5, lr=0.00001, momentum=0.1)\n",
    "res[\"d_f\"] = (tr_los, tr_ac, te_los, te_ac)\n",
    "d_model_c, tr_los, tr_ac, te_los, te_ac = mnist_experiment(\"dropout\", train_dataloader, valid_dataloader, dropout_rate=0.2, dropout_type='c', num_sample=5, valid_num_sample=20, epoch=5, lr=0.00001, momentum=0.1)\n",
    "res[\"d_c\"] = (tr_los, tr_ac, te_los, te_ac)"
   ]
  },
  {
   "cell_type": "code",
   "execution_count": 22,
   "metadata": {},
   "outputs": [],
   "source": [
    "os.makedirs(ckpt_dir, exist_ok=True)\n",
    "\n",
    "torch.save({\n",
    "    'model' : d_model_w.state_dict(),\n",
    "    'tr_los' : tr_los,\n",
    "    'tr_ac' : tr_ac,\n",
    "    'te_los' : te_los,\n",
    "    'te_ac' : te_ac,\n",
    "}, ckpt_dir / 'd_model_w.pth')\n",
    "torch.save({\n",
    "    'model' : d_model_f.state_dict(),\n",
    "    'tr_los' : tr_los,\n",
    "    'tr_ac' : tr_ac,\n",
    "    'te_los' : te_los,\n",
    "    'te_ac' : te_ac,\n",
    "}, ckpt_dir / 'd_model_f.pth')\n",
    "torch.save({\n",
    "    'model' : d_model_c.state_dict(),\n",
    "    'tr_los' : tr_los,\n",
    "    'tr_ac' : tr_ac,\n",
    "    'te_los' : te_los,\n",
    "    'te_ac' : te_ac,\n",
    "}, ckpt_dir / 'd_model_c.pth')"
   ]
  },
  {
   "cell_type": "code",
   "execution_count": null,
   "metadata": {},
   "outputs": [],
   "source": [
    "g_model_sq, tr_los, tr_ac, te_los, te_ac = mnist_experiment(\"gaussian\", train_dataloader, valid_dataloader, var_type='sq', is_lrt=True, num_sample=5, valid_num_sample=20, epoch=5, lr=0.00001, momentum=0.1)\n",
    "res[\"g_sq\"] = (tr_los, tr_ac, te_los, te_ac)\n",
    "model, tr_los, tr_ac, te_los, te_ac = mnist_experiment(\"gaussian\", train_dataloader, valid_dataloader, var_type='exp', is_lrt=True, num_sample=5, valid_num_sample=20, epoch=5, lr=0.00001, momentum=0.1)\n",
    "res[\"g_exp\"] = (tr_los, tr_ac, te_los, te_ac)"
   ]
  },
  {
   "cell_type": "code",
   "execution_count": null,
   "metadata": {},
   "outputs": [],
   "source": [
    "e_model, tr_los, tr_ac, te_los, te_ac = mnist_experiment(\"ensemble\", train_dataloader, valid_dataloader, num_ensemble = 5, epoch=5, lr=0.00001, momentum=0.1)\n",
    "res[\"e\"] = (tr_los, tr_ac, te_los, te_ac)"
   ]
  },
  {
   "cell_type": "code",
   "execution_count": null,
   "metadata": {},
   "outputs": [],
   "source": [
    "model, tr_los, tr_ac, te_los, te_ac = mnist_experiment(\"swag\", train_dataloader, valid_dataloader, epoch=5, lr=0.00001, momentum=0.1)\n",
    "res[\"s\"] = (tr_los, tr_ac, te_los, te_ac)"
   ]
  },
  {
   "cell_type": "code",
   "execution_count": null,
   "metadata": {},
   "outputs": [],
   "source": [
    "b_model, tr_los, tr_ac, te_los, te_ac = mnist_experiment(\"batchensemble\", train_dataloader, valid_dataloader, num_models=5, epoch=5, lr=0.00001, momentum=0.1)"
   ]
  },
  {
   "cell_type": "code",
   "execution_count": 83,
   "metadata": {},
   "outputs": [
    {
     "name": "stdout",
     "output_type": "stream",
     "text": [
      "d_w [1399.707771182061, 1281.6744421958897, 1221.2627910137178, 1195.6220536947237, 1179.4775664329534]\n",
      "d_f [1382.9840529918706, 1264.8774656057356, 1200.0018368959402, 1175.4333580732325, 1154.2179142475115]\n",
      "d_c [1381.071130108833, 1284.3855620622628, 1258.3044399499884, 1255.3992524623914, 1244.4616876840564]\n"
     ]
    }
   ],
   "source": [
    "for k, v in res.items():\n",
    "  print(k, v[0])"
   ]
  },
  {
   "cell_type": "markdown",
   "metadata": {},
   "source": []
  },
  {
   "cell_type": "code",
   "execution_count": 1,
   "metadata": {},
   "outputs": [
    {
     "ename": "NameError",
     "evalue": "name 'torch' is not defined",
     "output_type": "error",
     "traceback": [
      "\u001b[1;31m---------------------------------------------------------------------------\u001b[0m",
      "\u001b[1;31mNameError\u001b[0m                                 Traceback (most recent call last)",
      "\u001b[1;32m~\\AppData\\Local\\Temp/ipykernel_10116/2817233169.py\u001b[0m in \u001b[0;36m<module>\u001b[1;34m\u001b[0m\n\u001b[0;32m      2\u001b[0m \u001b[1;32mimport\u001b[0m \u001b[0mmatplotlib\u001b[0m\u001b[1;33m.\u001b[0m\u001b[0mcm\u001b[0m \u001b[1;32mas\u001b[0m \u001b[0mcm\u001b[0m\u001b[1;33m\u001b[0m\u001b[1;33m\u001b[0m\u001b[0m\n\u001b[0;32m      3\u001b[0m \u001b[1;32mfrom\u001b[0m \u001b[0mattack\u001b[0m \u001b[1;32mimport\u001b[0m \u001b[0mpgd\u001b[0m\u001b[1;33m\u001b[0m\u001b[1;33m\u001b[0m\u001b[0m\n\u001b[1;32m----> 4\u001b[1;33m \u001b[0mdevice\u001b[0m \u001b[1;33m=\u001b[0m \u001b[1;34m'cuda'\u001b[0m \u001b[1;32mif\u001b[0m \u001b[0mtorch\u001b[0m\u001b[1;33m.\u001b[0m\u001b[0mcuda\u001b[0m\u001b[1;33m.\u001b[0m\u001b[0mis_available\u001b[0m\u001b[1;33m(\u001b[0m\u001b[1;33m)\u001b[0m \u001b[1;32melse\u001b[0m \u001b[1;34m'cpu'\u001b[0m\u001b[1;33m\u001b[0m\u001b[1;33m\u001b[0m\u001b[0m\n\u001b[0m\u001b[0;32m      5\u001b[0m \u001b[1;33m\u001b[0m\u001b[0m\n\u001b[0;32m      6\u001b[0m \u001b[1;31m# pgd_attack_config = {\u001b[0m\u001b[1;33m\u001b[0m\u001b[1;33m\u001b[0m\u001b[0m\n",
      "\u001b[1;31mNameError\u001b[0m: name 'torch' is not defined"
     ]
    }
   ],
   "source": [
    "sys.path.append(\"..\")\n",
    "import matplotlib.cm as cm\n",
    "from attack import pgd\n",
    "device = 'cuda' if torch.cuda.is_available() else 'cpu'\n",
    "\n",
    "# pgd_attack_config = {\n",
    "#     'eps' : 8.0/255.0, \n",
    "#     'attack_steps': 7,\n",
    "#     'attack_lr': 2.0 / 255.0, \n",
    "#     'random_init': False, \n",
    "# }\n",
    "# use_aleatoric = True\n",
    "# criterion = nn.CrossEntropyLoss()\n",
    "# num_sample = 5\n",
    "# model = d_model_w\n",
    "# pgd = pgd.PGD(model, pgd_attack_config)\n",
    "# test_loss = 0.\n",
    "# test_acc_count = 0\n",
    "\n",
    "my_image = None\n",
    "for data in test_dataloader:\n",
    "    images, labels = data\n",
    "    my_image = images[0]\n",
    "    if True:\n",
    "        break\n",
    "print(my_image.size())\n",
    "plt.figure(2, figsize=(20,6))\n",
    "plt.imshow(my_image, cmap=cm.gray)\n",
    "\n",
    "pgd(x.unsqueeze(dim=0),y.unsqueeze(dim=0))\n",
    "\n",
    "# for data in test_dataloader:\n",
    "#   images, labels = data\n",
    "#   adver_images = []\n",
    "#   for x,y in zip(images, labels):\n",
    "#       adver_images.append(pgd(torch.unsqueeze(x,dim=0),torch.unsqueeze(y,dim=0)))\n",
    "#   adver_images = torch.cat([item for item in adver_images], dim=0)\n",
    "  \n",
    "#   for ind_sample in range(num_sample):\n",
    "#     outputs = model(images)\n",
    "#     if use_aleatoric:\n",
    "#         output_mean, output_std = torch.chunk(outputs, 2, dim=1)\n",
    "#         eps = torch.normal(0, 1, output_mean.shape)\n",
    "#         outputs = output_mean + eps * output_std\n",
    "#     loss = criterion(outputs, labels)\n",
    "\n",
    "#     test_loss += loss.item() /num_sample\n",
    "#     output_pred = torch.argmax(outputs.detach(), dim=1)\n",
    "#     test_acc_count += torch.count_nonzero(output_pred == labels).item() / num_sample\n",
    "  \n",
    "  \n",
    "\n",
    "# attack_config = {\n",
    "#     'eps' : 8.0/255.0,\n",
    "#     'random_init' : False,\n",
    "# }\n",
    "\n",
    "# fgsm = FGSM(model, attack_config)\n",
    "# adversarial_image = fgsm(image, label)"
   ]
  },
  {
   "cell_type": "code",
   "execution_count": 29,
   "metadata": {},
   "outputs": [
    {
     "name": "stdout",
     "output_type": "stream",
     "text": [
      "[1, 2, 3, 4]\n"
     ]
    }
   ],
   "source": [
    "a = [1,2,3,4]\n",
    "b = [5,6,7,8]\n",
    "for i_a,i_b in zip(a,b):\n",
    "    i_a = i_b\n",
    "print(a)"
   ]
  },
  {
   "cell_type": "code",
   "execution_count": 42,
   "metadata": {},
   "outputs": [
    {
     "name": "stdout",
     "output_type": "stream",
     "text": [
      "c:\\Users\\곽상원\\Desktop\\Bayes_Adversarial\\models\n"
     ]
    }
   ],
   "source": [
    "# os.getcwd()\n",
    "new_path = os.path.join('..', os.getcwd())\n",
    "print(new_path)"
   ]
  }
 ],
 "metadata": {
  "interpreter": {
   "hash": "4850e7481782aff8b094b404badabdfa2504cefa79f1f0b880c4e28e1583440a"
  },
  "kernelspec": {
   "display_name": "Python 3.6.13 ('dnerf')",
   "language": "python",
   "name": "python3"
  },
  "language_info": {
   "codemirror_mode": {
    "name": "ipython",
    "version": 3
   },
   "file_extension": ".py",
   "mimetype": "text/x-python",
   "name": "python",
   "nbconvert_exporter": "python",
   "pygments_lexer": "ipython3",
   "version": "3.6.13"
  },
  "orig_nbformat": 4
 },
 "nbformat": 4,
 "nbformat_minor": 2
}
