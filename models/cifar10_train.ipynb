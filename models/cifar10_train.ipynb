{
 "cells": [
  {
   "cell_type": "code",
   "execution_count": 1,
   "metadata": {},
   "outputs": [
    {
     "name": "stderr",
     "output_type": "stream",
     "text": [
      "c:\\ANACONDA\\envs\\dnerf\\lib\\site-packages\\tqdm\\auto.py:22: TqdmWarning: IProgress not found. Please update jupyter and ipywidgets. See https://ipywidgets.readthedocs.io/en/stable/user_install.html\n",
      "  from .autonotebook import tqdm as notebook_tqdm\n"
     ]
    },
    {
     "data": {
      "text/plain": [
       "<torch._C.Generator at 0x1d5a09aac00>"
      ]
     },
     "execution_count": 1,
     "metadata": {},
     "output_type": "execute_result"
    }
   ],
   "source": [
    "%load_ext autoreload\n",
    "%autoreload 2\n",
    "import torch\n",
    "from torch import optim, nn, utils\n",
    "import numpy as np\n",
    "import layers\n",
    "import lenet5_cifar10 as models\n",
    "from torchvision import datasets, transforms\n",
    "import sys\n",
    "import os\n",
    "from pathlib import Path\n",
    "import matplotlib.pyplot as plt\n",
    "import time\n",
    "\n",
    "root = os.getcwd()\n",
    "ckpt_dir = Path(root) / 'checkpoints'\n",
    "seed = 2022\n",
    "device = 'cuda' if torch.cuda.is_available() else 'cpu'\n",
    "torch.manual_seed(2022)"
   ]
  },
  {
   "cell_type": "code",
   "execution_count": 2,
   "metadata": {},
   "outputs": [
    {
     "name": "stdout",
     "output_type": "stream",
     "text": [
      "Files already downloaded and verified\n",
      "Files already downloaded and verified\n",
      "Train :  40000\n",
      "Validation :  10000\n",
      "Test :  10000\n"
     ]
    }
   ],
   "source": [
    "transform = transforms.ToTensor()\n",
    "root = \"./CIFAR10_DATASET\"\n",
    "train_dataset = datasets.CIFAR10(root, transform=transform, train=True, download=True)\n",
    "train_dataset, valid_dataset = utils.data.random_split(train_dataset, [40000, 10000])\n",
    "test_dataset = datasets.CIFAR10(root, transform=transform, train=False, download=True)\n",
    "\n",
    "print(\"Train : \", len(train_dataset))\n",
    "print(\"Validation : \", len(valid_dataset))\n",
    "print(\"Test : \", len(test_dataset))\n",
    "\n",
    "train_batchsize = 64\n",
    "test_batchsize = 256\n",
    "\n",
    "train_dataloader = utils.data.DataLoader(train_dataset, batch_size=train_batchsize, shuffle=True)\n",
    "valid_dataloader = utils.data.DataLoader(valid_dataset, batch_size=test_batchsize, shuffle=False)\n",
    "test_dataloader = utils.data.DataLoader(test_dataset, batch_size=test_batchsize, shuffle=False)"
   ]
  },
  {
   "cell_type": "code",
   "execution_count": 3,
   "metadata": {},
   "outputs": [],
   "source": [
    "def mnist_experiment(bnn_model, train_dataloader, valid_dataloader, use_aleatoric=True, **kwargs):\n",
    "  if bnn_model == \"gaussian\":\n",
    "    model = models.gaussian_lenet5(kwargs[\"var_type\"], dict(), kwargs[\"is_lrt\"], use_aleatoric)\n",
    "    optimizer = optim.SGD(model.parameters(), kwargs[\"lr\"], kwargs[\"momentum\"])\n",
    "    # Every forward gives different output.\n",
    "    bnn_type = \"random\"\n",
    "  elif bnn_model == \"dropout\":\n",
    "    model = models.dropout_lenet5(kwargs[\"dropout_rate\"], kwargs[\"dropout_type\"], dict(), use_aleatoric)\n",
    "    optimizer = optim.SGD(model.parameters(), kwargs[\"lr\"], kwargs[\"momentum\"], weight_decay=(1 - kwargs[\"dropout_rate\"]) / 2 * kwargs[\"num_sample\"])\n",
    "    # Every forward gives different output.\n",
    "    bnn_type = \"random\"\n",
    "  elif bnn_model == \"ensemble\":\n",
    "    model = models.ensemble_lenet5(kwargs[\"num_ensemble\"], use_aleatoric)\n",
    "    optimizer = optim.SGD(model.parameters(), kwargs[\"lr\"], kwargs[\"momentum\"])\n",
    "    # Forward gives [batch_size * num_ensemble, output_shape]\n",
    "    bnn_type = \"ensemble\"\n",
    "  elif bnn_model == \"swag\":\n",
    "    model = models.lenet5(use_aleatoric)\n",
    "    optimizer = optim.SGD(model.parameters(), kwargs[\"lr\"], kwargs[\"momentum\"])\n",
    "    # SWAG is trained as simple NN.\n",
    "    bnn_type = \"swag\"\n",
    "  elif bnn_model == \"batchensemble\":\n",
    "    model = models.batchensemble_lenet5(kwargs[\"num_models\"], use_aleatoric)\n",
    "    optimizer = optim.SGD(model.parameters(), kwargs[\"lr\"], kwargs[\"momentum\"])\n",
    "    # Forward gives [batch_size * num_models, output_shape]\n",
    "    bnn_type = \"ensemble\"\n",
    "    kwargs[\"num_ensemble\"] = kwargs[\"num_models\"]\n",
    "  else:\n",
    "    raise ValueError(\"No bnn model choosen.\")\n",
    "\n",
    "  criterion = nn.CrossEntropyLoss()\n",
    "  train_loss_res = []\n",
    "  valid_loss_res = []\n",
    "  train_acc_res = []\n",
    "  valid_acc_res = []\n",
    "\n",
    "  model = model.to(device)\n",
    "\n",
    "  # Load the checkpoint\n",
    "  if False:\n",
    "    file_name = 'd_model_'+kwargs['dropout_type']+'.pth'\n",
    "    ckpt_path = ckpt_dir / file_name\n",
    "    try:\n",
    "      checkpoint = torch.load(ckpt_path)\n",
    "      model.load_state_dict(checkpoint)\n",
    "      train_loss_res = checkpoint['tr_los']\n",
    "      train_acc_res = checkpoint['tr_ac']\n",
    "      valid_loss_res = checkpoint['te_los']\n",
    "      valid_acc_res = checkpoint['te_ac']\n",
    "      print('>>Load the checkpoint DONE!!')\n",
    "      return model, train_loss_res, train_acc_res, valid_loss_res, valid_acc_res\n",
    "    except Exception as e:\n",
    "      print(e)\n",
    "\n",
    "  for epoch in range(kwargs[\"epoch\"]):\n",
    "    start_time = time.time()\n",
    "    train_loss = 0.0\n",
    "    train_acc_count = 0\n",
    "    model.train()\n",
    "    for data in train_dataloader:\n",
    "      images, labels = data\n",
    "      images = images.to(device)\n",
    "      labels = labels.to(device)\n",
    "      if bnn_type == \"random\":\n",
    "        for ind_sample in range(kwargs[\"num_sample\"]):\n",
    "          outputs = model(images)\n",
    "          if use_aleatoric:\n",
    "            output_mean, output_std = torch.chunk(outputs, 2, dim=1)\n",
    "            eps = torch.normal(0, 1, output_mean.shape, device=device)\n",
    "            outputs = output_mean + eps * output_std\n",
    "          loss = criterion(outputs, labels)\n",
    "          loss.backward()\n",
    "          optimizer.step()\n",
    "\n",
    "          train_loss += loss.item() / kwargs[\"num_sample\"]\n",
    "          output_pred = torch.argmax(outputs.detach(), dim=1)\n",
    "          train_acc_count += torch.count_nonzero(output_pred == labels).item() / kwargs[\"num_sample\"]\n",
    "          \n",
    "      elif bnn_type == \"ensemble\":\n",
    "        outputs = model(images)\n",
    "        if use_aleatoric:\n",
    "          output_mean, output_std = torch.chunk(outputs, 2, dim=1)\n",
    "          eps = torch.normal(0, 1, output_mean.shape)\n",
    "          outputs = output_mean + eps * output_std\n",
    "        labels = labels.repeat(kwargs[\"num_ensemble\"]) # [y1, y2, ..., y1, y2, ..., ] with num_ensemble times\n",
    "        loss = criterion(outputs, labels) * kwargs[\"num_ensemble\"]\n",
    "        loss.backward()\n",
    "        optimizer.step()\n",
    "\n",
    "        train_loss += loss.item() / kwargs[\"num_ensemble\"]\n",
    "        output_pred = torch.argmax(outputs.detach(), dim=1)\n",
    "        train_acc_count += torch.count_nonzero(output_pred == labels).item() / kwargs[\"num_ensemble\"]\n",
    "      else:\n",
    "        outputs = model(images)\n",
    "        if use_aleatoric:\n",
    "          output_mean, output_std = torch.chunk(outputs, 2, dim=1)\n",
    "          eps = torch.normal(0, 1, output_mean.shape)\n",
    "          outputs = output_mean + eps * output_std\n",
    "        loss = criterion(outputs, labels)\n",
    "        loss.backward()\n",
    "        optimizer.step()\n",
    "\n",
    "        train_loss += loss.item()\n",
    "        output_pred = torch.argmax(outputs.detach(), dim=1)\n",
    "        train_acc_count += torch.count_nonzero(output_pred == labels).item()\n",
    "    train_loss_res.append(train_loss)\n",
    "    train_acc_res.append(train_acc_count / len(train_dataset))\n",
    "    print(f'training {epoch+1}/{kwargs[\"epoch\"]} || time: {time.time()-start_time: 04f} secs')\n",
    "\n",
    "    start_time = time.time()\n",
    "    model.eval()\n",
    "    valid_loss = 0.0\n",
    "    valid_acc_count = 0\n",
    "    with torch.no_grad():\n",
    "      for data in valid_dataloader:\n",
    "        images, labels = data\n",
    "        images = images.to(device)\n",
    "        labels = labels.to(device)\n",
    "        if bnn_type == \"random\":\n",
    "          for ind_sample in range(kwargs[\"valid_num_sample\"]):\n",
    "            outputs = model(images)\n",
    "            if use_aleatoric:\n",
    "              output_mean, output_std = torch.chunk(outputs, 2, dim=1)\n",
    "              eps = torch.normal(0, 1, output_mean.shape, device=device)\n",
    "              outputs = output_mean + eps * output_std\n",
    "            loss = criterion(outputs, labels)\n",
    "            \n",
    "            valid_loss += loss.item() / kwargs[\"valid_num_sample\"]\n",
    "            output_pred = torch.argmax(outputs.detach(), dim=1)\n",
    "            valid_acc_count += torch.count_nonzero(output_pred == labels).item() / kwargs[\"valid_num_sample\"]\n",
    "        elif bnn_type == \"ensemble\":\n",
    "          outputs = model(images)\n",
    "          if use_aleatoric:\n",
    "            output_mean, output_std = torch.chunk(outputs, 2, dim=1)\n",
    "            eps = torch.normal(0, 1, output_mean.shape)\n",
    "            outputs = output_mean + eps * output_std\n",
    "          labels = labels.repeat(kwargs[\"num_ensemble\"]) # [y1, y2, ..., y1, y2, ..., ] with num_ensemble times\n",
    "          loss = criterion(outputs, labels) * kwargs[\"num_ensemble\"]\n",
    "          valid_loss += loss.item() / kwargs[\"num_ensemble\"]\n",
    "          output_pred = torch.argmax(outputs.detach(), dim=1)\n",
    "          valid_acc_count += torch.count_nonzero(output_pred == labels).item() / kwargs[\"num_ensemble\"]\n",
    "        else:\n",
    "          outputs = model(images)\n",
    "          if use_aleatoric:\n",
    "            output_mean, output_std = torch.chunk(outputs, 2, dim=1)\n",
    "            eps = torch.normal(0, 1, output_mean.shape)\n",
    "            outputs = output_mean + eps * output_std\n",
    "          loss = criterion(outputs, labels)\n",
    "          valid_loss += loss.item()\n",
    "          output_pred = torch.argmax(outputs.detach(), dim=1)\n",
    "          valid_acc_count += torch.count_nonzero(output_pred == labels).item()\n",
    "    valid_loss_res.append(valid_loss)\n",
    "    valid_acc_res.append(valid_acc_count / len(valid_dataset))\n",
    "    print(f'validation {epoch+1}/{kwargs[\"epoch\"]} || time: {time.time()-start_time: 04f} secs')\n",
    "  \n",
    "  return model, train_loss_res, train_acc_res, valid_loss_res, valid_acc_res"
   ]
  },
  {
   "cell_type": "code",
   "execution_count": 4,
   "metadata": {},
   "outputs": [],
   "source": [
    "res = dict()"
   ]
  },
  {
   "cell_type": "code",
   "execution_count": null,
   "metadata": {},
   "outputs": [],
   "source": [
    "d_model_w, tr_los, tr_ac, te_los, te_ac = mnist_experiment(\"dropout\", train_dataloader, valid_dataloader, dropout_rate=0.2, dropout_type='w', num_sample=1, valid_num_sample=20, epoch=5, lr=0.00001, momentum=0.1)\n",
    "res[\"d_w\"] = (tr_los, tr_ac, te_los, te_ac)"
   ]
  },
  {
   "cell_type": "code",
   "execution_count": 6,
   "metadata": {},
   "outputs": [
    {
     "name": "stdout",
     "output_type": "stream",
     "text": [
      "training 1/100 || time:  43.738837 secs\n",
      "validation 1/100 || time:  56.755390 secs\n",
      "training 2/100 || time:  40.409618 secs\n",
      "validation 2/100 || time:  54.746855 secs\n",
      "training 3/100 || time:  38.775697 secs\n",
      "validation 3/100 || time:  53.563621 secs\n",
      "training 4/100 || time:  43.883694 secs\n",
      "validation 4/100 || time:  60.148113 secs\n",
      "training 5/100 || time:  38.287073 secs\n",
      "validation 5/100 || time:  55.692036 secs\n",
      "training 6/100 || time:  38.727453 secs\n",
      "validation 6/100 || time:  52.882654 secs\n",
      "training 7/100 || time:  38.423238 secs\n",
      "validation 7/100 || time:  54.878464 secs\n",
      "training 8/100 || time:  38.852731 secs\n",
      "validation 8/100 || time:  54.095202 secs\n",
      "training 9/100 || time:  38.738855 secs\n",
      "validation 9/100 || time:  53.742454 secs\n",
      "training 10/100 || time:  40.136639 secs\n",
      "validation 10/100 || time:  52.245506 secs\n",
      "training 11/100 || time:  39.048207 secs\n",
      "validation 11/100 || time:  56.074375 secs\n",
      "training 12/100 || time:  39.044566 secs\n",
      "validation 12/100 || time:  51.663712 secs\n",
      "training 13/100 || time:  37.222503 secs\n",
      "validation 13/100 || time:  58.676582 secs\n",
      "training 14/100 || time:  37.781731 secs\n",
      "validation 14/100 || time:  53.267754 secs\n"
     ]
    }
   ],
   "source": [
    "d_model_f, tr_los, tr_ac, te_los, te_ac = mnist_experiment(\"dropout\", train_dataloader, valid_dataloader, dropout_rate=0.2, dropout_type='f', num_sample=1, valid_num_sample=20, epoch=100, lr=0.00001, momentum=0.1)\n",
    "res[\"d_f\"] = (tr_los, tr_ac, te_los, te_ac)"
   ]
  },
  {
   "cell_type": "code",
   "execution_count": null,
   "metadata": {},
   "outputs": [],
   "source": [
    "d_model_c, tr_los, tr_ac, te_los, te_ac = mnist_experiment(\"dropout\", train_dataloader, valid_dataloader, dropout_rate=0.2, dropout_type='c', num_sample=1, valid_num_sample=20, epoch=100, lr=0.00001, momentum=0.1)\n",
    "res[\"d_c\"] = (tr_los, tr_ac, te_los, te_ac)"
   ]
  },
  {
   "cell_type": "code",
   "execution_count": null,
   "metadata": {},
   "outputs": [],
   "source": [
    "os.makedirs(ckpt_dir, exist_ok=True)\n",
    "\n",
    "# torch.save({\n",
    "#     'model' : d_model_w.state_dict(),\n",
    "#     'tr_los' : tr_los,\n",
    "#     'tr_ac' : tr_ac,\n",
    "#     'te_los' : te_los,\n",
    "#     'te_ac' : te_ac,\n",
    "# }, ckpt_dir / 'd_model_w.pth')\n",
    "torch.save({\n",
    "    'model' : d_model_f.state_dict(),\n",
    "    'tr_los' : tr_los,\n",
    "    'tr_ac' : tr_ac,\n",
    "    'te_los' : te_los,\n",
    "    'te_ac' : te_ac,\n",
    "}, ckpt_dir / 'd_model_f.pth')\n",
    "torch.save({\n",
    "    'model' : d_model_c.state_dict(),\n",
    "    'tr_los' : tr_los,\n",
    "    'tr_ac' : tr_ac,\n",
    "    'te_los' : te_los,\n",
    "    'te_ac' : te_ac,\n",
    "}, ckpt_dir / 'd_model_c.pth')"
   ]
  },
  {
   "cell_type": "code",
   "execution_count": null,
   "metadata": {},
   "outputs": [],
   "source": [
    "g_model_sq, tr_los, tr_ac, te_los, te_ac = mnist_experiment(\"gaussian\", train_dataloader, valid_dataloader, var_type='sq', is_lrt=True, num_sample=5, valid_num_sample=20, epoch=5, lr=0.00001, momentum=0.1)\n",
    "res[\"g_sq\"] = (tr_los, tr_ac, te_los, te_ac)\n",
    "model, tr_los, tr_ac, te_los, te_ac = mnist_experiment(\"gaussian\", train_dataloader, valid_dataloader, var_type='exp', is_lrt=True, num_sample=5, valid_num_sample=20, epoch=5, lr=0.00001, momentum=0.1)\n",
    "res[\"g_exp\"] = (tr_los, tr_ac, te_los, te_ac)"
   ]
  },
  {
   "cell_type": "code",
   "execution_count": null,
   "metadata": {},
   "outputs": [],
   "source": [
    "e_model, tr_los, tr_ac, te_los, te_ac = mnist_experiment(\"ensemble\", train_dataloader, valid_dataloader, num_ensemble = 5, epoch=5, lr=0.00001, momentum=0.1)\n",
    "res[\"e\"] = (tr_los, tr_ac, te_los, te_ac)"
   ]
  },
  {
   "cell_type": "code",
   "execution_count": null,
   "metadata": {},
   "outputs": [],
   "source": [
    "model, tr_los, tr_ac, te_los, te_ac = mnist_experiment(\"swag\", train_dataloader, valid_dataloader, epoch=5, lr=0.00001, momentum=0.1)\n",
    "res[\"s\"] = (tr_los, tr_ac, te_los, te_ac)"
   ]
  },
  {
   "cell_type": "code",
   "execution_count": null,
   "metadata": {},
   "outputs": [],
   "source": [
    "b_model, tr_los, tr_ac, te_los, te_ac = mnist_experiment(\"batchensemble\", train_dataloader, valid_dataloader, num_models=5, epoch=5, lr=0.00001, momentum=0.1)"
   ]
  },
  {
   "cell_type": "code",
   "execution_count": null,
   "metadata": {},
   "outputs": [],
   "source": [
    "for k, v in res.items():\n",
    "  print(k, v[0])"
   ]
  },
  {
   "cell_type": "markdown",
   "metadata": {},
   "source": []
  },
  {
   "cell_type": "code",
   "execution_count": 1,
   "metadata": {},
   "outputs": [
    {
     "ename": "NameError",
     "evalue": "name 'torch' is not defined",
     "output_type": "error",
     "traceback": [
      "\u001b[1;31m---------------------------------------------------------------------------\u001b[0m",
      "\u001b[1;31mNameError\u001b[0m                                 Traceback (most recent call last)",
      "\u001b[1;32m~\\AppData\\Local\\Temp/ipykernel_10116/2817233169.py\u001b[0m in \u001b[0;36m<module>\u001b[1;34m\u001b[0m\n\u001b[0;32m      2\u001b[0m \u001b[1;32mimport\u001b[0m \u001b[0mmatplotlib\u001b[0m\u001b[1;33m.\u001b[0m\u001b[0mcm\u001b[0m \u001b[1;32mas\u001b[0m \u001b[0mcm\u001b[0m\u001b[1;33m\u001b[0m\u001b[1;33m\u001b[0m\u001b[0m\n\u001b[0;32m      3\u001b[0m \u001b[1;32mfrom\u001b[0m \u001b[0mattack\u001b[0m \u001b[1;32mimport\u001b[0m \u001b[0mpgd\u001b[0m\u001b[1;33m\u001b[0m\u001b[1;33m\u001b[0m\u001b[0m\n\u001b[1;32m----> 4\u001b[1;33m \u001b[0mdevice\u001b[0m \u001b[1;33m=\u001b[0m \u001b[1;34m'cuda'\u001b[0m \u001b[1;32mif\u001b[0m \u001b[0mtorch\u001b[0m\u001b[1;33m.\u001b[0m\u001b[0mcuda\u001b[0m\u001b[1;33m.\u001b[0m\u001b[0mis_available\u001b[0m\u001b[1;33m(\u001b[0m\u001b[1;33m)\u001b[0m \u001b[1;32melse\u001b[0m \u001b[1;34m'cpu'\u001b[0m\u001b[1;33m\u001b[0m\u001b[1;33m\u001b[0m\u001b[0m\n\u001b[0m\u001b[0;32m      5\u001b[0m \u001b[1;33m\u001b[0m\u001b[0m\n\u001b[0;32m      6\u001b[0m \u001b[1;31m# pgd_attack_config = {\u001b[0m\u001b[1;33m\u001b[0m\u001b[1;33m\u001b[0m\u001b[0m\n",
      "\u001b[1;31mNameError\u001b[0m: name 'torch' is not defined"
     ]
    }
   ],
   "source": [
    "sys.path.append(\"..\")\n",
    "import matplotlib.cm as cm\n",
    "from attack import pgd\n",
    "device = 'cuda' if torch.cuda.is_available() else 'cpu'\n",
    "\n",
    "# pgd_attack_config = {\n",
    "#     'eps' : 8.0/255.0, \n",
    "#     'attack_steps': 7,\n",
    "#     'attack_lr': 2.0 / 255.0, \n",
    "#     'random_init': False, \n",
    "# }\n",
    "# use_aleatoric = True\n",
    "# criterion = nn.CrossEntropyLoss()\n",
    "# num_sample = 5\n",
    "# model = d_model_w\n",
    "# pgd = pgd.PGD(model, pgd_attack_config)\n",
    "# test_loss = 0.\n",
    "# test_acc_count = 0\n",
    "\n",
    "my_image = None\n",
    "for data in test_dataloader:\n",
    "    images, labels = data\n",
    "    my_image = images[0]\n",
    "    if True:\n",
    "        break\n",
    "print(my_image.size())\n",
    "plt.figure(2, figsize=(20,6))\n",
    "plt.imshow(my_image, cmap=cm.gray)\n",
    "\n",
    "pgd(x.unsqueeze(dim=0),y.unsqueeze(dim=0))\n",
    "\n",
    "# for data in test_dataloader:\n",
    "#   images, labels = data\n",
    "#   adver_images = []\n",
    "#   for x,y in zip(images, labels):\n",
    "#       adver_images.append(pgd(torch.unsqueeze(x,dim=0),torch.unsqueeze(y,dim=0)))\n",
    "#   adver_images = torch.cat([item for item in adver_images], dim=0)\n",
    "  \n",
    "#   for ind_sample in range(num_sample):\n",
    "#     outputs = model(images)\n",
    "#     if use_aleatoric:\n",
    "#         output_mean, output_std = torch.chunk(outputs, 2, dim=1)\n",
    "#         eps = torch.normal(0, 1, output_mean.shape)\n",
    "#         outputs = output_mean + eps * output_std\n",
    "#     loss = criterion(outputs, labels)\n",
    "\n",
    "#     test_loss += loss.item() /num_sample\n",
    "#     output_pred = torch.argmax(outputs.detach(), dim=1)\n",
    "#     test_acc_count += torch.count_nonzero(output_pred == labels).item() / num_sample\n",
    "  \n",
    "  \n",
    "\n",
    "# attack_config = {\n",
    "#     'eps' : 8.0/255.0,\n",
    "#     'random_init' : False,\n",
    "# }\n",
    "\n",
    "# fgsm = FGSM(model, attack_config)\n",
    "# adversarial_image = fgsm(image, label)"
   ]
  },
  {
   "cell_type": "code",
   "execution_count": 29,
   "metadata": {},
   "outputs": [
    {
     "name": "stdout",
     "output_type": "stream",
     "text": [
      "[1, 2, 3, 4]\n"
     ]
    }
   ],
   "source": [
    "a = [1,2,3,4]\n",
    "b = [5,6,7,8]\n",
    "for i_a,i_b in zip(a,b):\n",
    "    i_a = i_b\n",
    "print(a)"
   ]
  },
  {
   "cell_type": "code",
   "execution_count": 42,
   "metadata": {},
   "outputs": [
    {
     "name": "stdout",
     "output_type": "stream",
     "text": [
      "c:\\Users\\곽상원\\Desktop\\Bayes_Adversarial\\models\n"
     ]
    }
   ],
   "source": [
    "# os.getcwd()\n",
    "new_path = os.path.join('..', os.getcwd())\n",
    "print(new_path)"
   ]
  }
 ],
 "metadata": {
  "interpreter": {
   "hash": "4850e7481782aff8b094b404badabdfa2504cefa79f1f0b880c4e28e1583440a"
  },
  "kernelspec": {
   "display_name": "Python 3.6.13 ('dnerf')",
   "language": "python",
   "name": "python3"
  },
  "language_info": {
   "codemirror_mode": {
    "name": "ipython",
    "version": 3
   },
   "file_extension": ".py",
   "mimetype": "text/x-python",
   "name": "python",
   "nbconvert_exporter": "python",
   "pygments_lexer": "ipython3",
   "version": "3.6.13"
  },
  "orig_nbformat": 4
 },
 "nbformat": 4,
 "nbformat_minor": 2
}
